{
 "cells": [
  {
   "cell_type": "code",
   "execution_count": 11,
   "id": "99fa4309",
   "metadata": {},
   "outputs": [],
   "source": [
    "%load_ext autoreload\n",
    "%autoreload 2"
   ]
  },
  {
   "cell_type": "code",
   "execution_count": null,
   "id": "1dbcb884",
   "metadata": {},
   "outputs": [],
   "source": [
    "import numpy as np\n",
    "import pandas as pd\n",
    "import matplotlib.pyplot as plt\n",
    "import seaborn as sns\n",
    "import os \n",
    "import sys"
   ]
  },
  {
   "cell_type": "code",
   "execution_count": 5,
   "id": "e4ec4214",
   "metadata": {},
   "outputs": [],
   "source": [
    "import importlib.util\n",
    "\n",
    "file_path_labeling = os.path.abspath(\"../scripts/labeling.py\")\n",
    "file_path_preprocessing = os.path.abspath(\"../scripts/prepocessing.py\")\n",
    "file_path_telegram_scrapper = os.path.abspath(\"../scripts/telegram_scrapper.py\")\n",
    "\n",
    "spec = importlib.util.spec_from_file_location(\"labeling\", file_path_labeling)\n",
    "labeling = importlib.util.module_from_spec(spec)\n",
    "spec.loader.exec_module(labeling)\n",
    "\n",
    "spec = importlib.util.spec_from_file_location(\"labeling\", file_path_preprocessing)\n",
    "preprocessing = importlib.util.module_from_spec(spec)\n",
    "spec.loader.exec_module(preprocessing)"
   ]
  },
  {
   "cell_type": "code",
   "execution_count": 10,
   "id": "209e954e",
   "metadata": {},
   "outputs": [
    {
     "data": {
      "text/html": [
       "<div>\n",
       "<style scoped>\n",
       "    .dataframe tbody tr th:only-of-type {\n",
       "        vertical-align: middle;\n",
       "    }\n",
       "\n",
       "    .dataframe tbody tr th {\n",
       "        vertical-align: top;\n",
       "    }\n",
       "\n",
       "    .dataframe thead th {\n",
       "        text-align: right;\n",
       "    }\n",
       "</style>\n",
       "<table border=\"1\" class=\"dataframe\">\n",
       "  <thead>\n",
       "    <tr style=\"text-align: right;\">\n",
       "      <th></th>\n",
       "      <th>Channel Title</th>\n",
       "      <th>Channel Username</th>\n",
       "      <th>ID</th>\n",
       "      <th>Message</th>\n",
       "      <th>Date</th>\n",
       "      <th>Media Path</th>\n",
       "    </tr>\n",
       "  </thead>\n",
       "  <tbody>\n",
       "    <tr>\n",
       "      <th>0</th>\n",
       "      <td>Sheger online-store</td>\n",
       "      <td>@Shageronlinestore</td>\n",
       "      <td>5333</td>\n",
       "      <td>NaN</td>\n",
       "      <td>2024-09-20 11:50:03+00:00</td>\n",
       "      <td>photos/@Shageronlinestore_5333.jpg</td>\n",
       "    </tr>\n",
       "    <tr>\n",
       "      <th>1</th>\n",
       "      <td>Sheger online-store</td>\n",
       "      <td>@Shageronlinestore</td>\n",
       "      <td>5332</td>\n",
       "      <td>NaN</td>\n",
       "      <td>2024-09-20 11:50:03+00:00</td>\n",
       "      <td>photos/@Shageronlinestore_5332.jpg</td>\n",
       "    </tr>\n",
       "    <tr>\n",
       "      <th>2</th>\n",
       "      <td>Sheger online-store</td>\n",
       "      <td>@Shageronlinestore</td>\n",
       "      <td>5331</td>\n",
       "      <td>NaN</td>\n",
       "      <td>2024-09-20 11:50:03+00:00</td>\n",
       "      <td>photos/@Shageronlinestore_5331.jpg</td>\n",
       "    </tr>\n",
       "    <tr>\n",
       "      <th>3</th>\n",
       "      <td>Sheger online-store</td>\n",
       "      <td>@Shageronlinestore</td>\n",
       "      <td>5330</td>\n",
       "      <td>NaN</td>\n",
       "      <td>2024-09-20 11:50:02+00:00</td>\n",
       "      <td>photos/@Shageronlinestore_5330.jpg</td>\n",
       "    </tr>\n",
       "    <tr>\n",
       "      <th>4</th>\n",
       "      <td>Sheger online-store</td>\n",
       "      <td>@Shageronlinestore</td>\n",
       "      <td>5329</td>\n",
       "      <td>NaN</td>\n",
       "      <td>2024-09-20 11:50:02+00:00</td>\n",
       "      <td>photos/@Shageronlinestore_5329.jpg</td>\n",
       "    </tr>\n",
       "  </tbody>\n",
       "</table>\n",
       "</div>"
      ],
      "text/plain": [
       "         Channel Title    Channel Username    ID Message  \\\n",
       "0  Sheger online-store  @Shageronlinestore  5333     NaN   \n",
       "1  Sheger online-store  @Shageronlinestore  5332     NaN   \n",
       "2  Sheger online-store  @Shageronlinestore  5331     NaN   \n",
       "3  Sheger online-store  @Shageronlinestore  5330     NaN   \n",
       "4  Sheger online-store  @Shageronlinestore  5329     NaN   \n",
       "\n",
       "                        Date                          Media Path  \n",
       "0  2024-09-20 11:50:03+00:00  photos/@Shageronlinestore_5333.jpg  \n",
       "1  2024-09-20 11:50:03+00:00  photos/@Shageronlinestore_5332.jpg  \n",
       "2  2024-09-20 11:50:03+00:00  photos/@Shageronlinestore_5331.jpg  \n",
       "3  2024-09-20 11:50:02+00:00  photos/@Shageronlinestore_5330.jpg  \n",
       "4  2024-09-20 11:50:02+00:00  photos/@Shageronlinestore_5329.jpg  "
      ]
     },
     "execution_count": 10,
     "metadata": {},
     "output_type": "execute_result"
    }
   ],
   "source": [
    "df = pd.read_excel('..\\\\data\\\\telegram_data.xlsx')\n",
    "df.head()"
   ]
  },
  {
   "cell_type": "code",
   "execution_count": 11,
   "id": "d99ddfca",
   "metadata": {},
   "outputs": [
    {
     "data": {
      "text/plain": [
       "Index(['Channel Title', 'Channel Username', 'ID', 'Message', 'Date',\n",
       "       'Media Path'],\n",
       "      dtype='object')"
      ]
     },
     "execution_count": 11,
     "metadata": {},
     "output_type": "execute_result"
    }
   ],
   "source": [
    "df.columns"
   ]
  },
  {
   "cell_type": "code",
   "execution_count": 14,
   "id": "ff1b2f3b",
   "metadata": {},
   "outputs": [
    {
     "data": {
      "text/plain": [
       "Channel Title       object\n",
       "Channel Username    object\n",
       "ID                   int64\n",
       "Message             object\n",
       "Date                object\n",
       "Media Path          object\n",
       "dtype: object"
      ]
     },
     "execution_count": 14,
     "metadata": {},
     "output_type": "execute_result"
    }
   ],
   "source": [
    "df.dtypes"
   ]
  },
  {
   "cell_type": "code",
   "execution_count": null,
   "id": "ccc0dd3d",
   "metadata": {},
   "outputs": [
    {
     "data": {
      "text/html": [
       "<div>\n",
       "<style scoped>\n",
       "    .dataframe tbody tr th:only-of-type {\n",
       "        vertical-align: middle;\n",
       "    }\n",
       "\n",
       "    .dataframe tbody tr th {\n",
       "        vertical-align: top;\n",
       "    }\n",
       "\n",
       "    .dataframe thead th {\n",
       "        text-align: right;\n",
       "    }\n",
       "</style>\n",
       "<table border=\"1\" class=\"dataframe\">\n",
       "  <thead>\n",
       "    <tr style=\"text-align: right;\">\n",
       "      <th></th>\n",
       "      <th>Missing Values</th>\n",
       "      <th>% of Total Values</th>\n",
       "      <th>Data Types</th>\n",
       "    </tr>\n",
       "  </thead>\n",
       "  <tbody>\n",
       "    <tr>\n",
       "      <th>Message</th>\n",
       "      <td>1849</td>\n",
       "      <td>36.87</td>\n",
       "      <td>object</td>\n",
       "    </tr>\n",
       "    <tr>\n",
       "      <th>Media Path</th>\n",
       "      <td>1221</td>\n",
       "      <td>24.35</td>\n",
       "      <td>object</td>\n",
       "    </tr>\n",
       "    <tr>\n",
       "      <th>Channel Title</th>\n",
       "      <td>0</td>\n",
       "      <td>0.00</td>\n",
       "      <td>object</td>\n",
       "    </tr>\n",
       "    <tr>\n",
       "      <th>Channel Username</th>\n",
       "      <td>0</td>\n",
       "      <td>0.00</td>\n",
       "      <td>object</td>\n",
       "    </tr>\n",
       "    <tr>\n",
       "      <th>ID</th>\n",
       "      <td>0</td>\n",
       "      <td>0.00</td>\n",
       "      <td>int64</td>\n",
       "    </tr>\n",
       "    <tr>\n",
       "      <th>Date</th>\n",
       "      <td>0</td>\n",
       "      <td>0.00</td>\n",
       "      <td>object</td>\n",
       "    </tr>\n",
       "  </tbody>\n",
       "</table>\n",
       "</div>"
      ],
      "text/plain": [
       "                  Missing Values  % of Total Values Data Types\n",
       "Message                     1849              36.87     object\n",
       "Media Path                  1221              24.35     object\n",
       "Channel Title                  0               0.00     object\n",
       "Channel Username               0               0.00     object\n",
       "ID                             0               0.00      int64\n",
       "Date                           0               0.00     object"
      ]
     },
     "execution_count": 15,
     "metadata": {},
     "output_type": "execute_result"
    }
   ],
   "source": [
    "# Data Quality Checks\n",
    "preprocessing.check_missing_values(df)"
   ]
  },
  {
   "cell_type": "code",
   "execution_count": null,
   "id": "92eeae34",
   "metadata": {},
   "outputs": [
    {
     "name": "stdout",
     "output_type": "stream",
     "text": [
      "The dataset has 10.2% missing values.\n"
     ]
    }
   ],
   "source": [
    "# Mssing Percentage\n",
    "preprocessing.caculate_missing_percentage(df)"
   ]
  },
  {
   "cell_type": "code",
   "execution_count": 17,
   "id": "25bd0dc2",
   "metadata": {},
   "outputs": [],
   "source": [
    "df = df.dropna(subset=['Message'])"
   ]
  },
  {
   "cell_type": "code",
   "execution_count": 18,
   "id": "b1ffd308",
   "metadata": {},
   "outputs": [
    {
     "data": {
      "text/plain": [
       "np.int64(0)"
      ]
     },
     "execution_count": 18,
     "metadata": {},
     "output_type": "execute_result"
    }
   ],
   "source": [
    "df['Message'].isna().sum()"
   ]
  },
  {
   "cell_type": "code",
   "execution_count": 19,
   "id": "0745f1cf",
   "metadata": {},
   "outputs": [
    {
     "data": {
      "text/plain": [
       "np.int64(0)"
      ]
     },
     "execution_count": 19,
     "metadata": {},
     "output_type": "execute_result"
    }
   ],
   "source": [
    "df['Message'].isnull().sum()"
   ]
  },
  {
   "cell_type": "code",
   "execution_count": 20,
   "id": "00d8c928",
   "metadata": {},
   "outputs": [
    {
     "name": "stdout",
     "output_type": "stream",
     "text": [
      "data shape: (3166, 6) \n"
     ]
    }
   ],
   "source": [
    "print(f'data shape: {df.shape} ')"
   ]
  },
  {
   "cell_type": "code",
   "execution_count": 22,
   "id": "f6e162e0",
   "metadata": {},
   "outputs": [
    {
     "name": "stderr",
     "output_type": "stream",
     "text": [
      "C:\\Users\\hp\\AppData\\Local\\Temp\\ipykernel_456\\621385295.py:1: SettingWithCopyWarning: \n",
      "A value is trying to be set on a copy of a slice from a DataFrame.\n",
      "Try using .loc[row_indexer,col_indexer] = value instead\n",
      "\n",
      "See the caveats in the documentation: https://pandas.pydata.org/pandas-docs/stable/user_guide/indexing.html#returning-a-view-versus-a-copy\n",
      "  df['Message'] = df['Message'].apply(preprocessing.remove_emojis).apply(preprocessing.remove_english_words)\n"
     ]
    }
   ],
   "source": [
    "df['Message'] = df['Message'].apply(preprocessing.remove_emojis).apply(preprocessing.remove_english_words)"
   ]
  },
  {
   "cell_type": "code",
   "execution_count": 23,
   "id": "87670449",
   "metadata": {},
   "outputs": [
    {
     "data": {
      "text/plain": [
       "5     3pcs   \\n\\nእስከ 260° ሙቀት መቆቆም የሚችል\\n      \\n   ...\n",
       "6      \\n\\n ጊዜ ቆጣቢ ስላይስ ማድረጊያ \\n  ለእጅ ሴፍቲ ተመራጭ\\n  ለድ...\n",
       "7         \\n          \\n\\n  ,  ,   - .\\n\\n          ...\n",
       "8         \\n          \\n\\n  ,  ,   - .\\n\\n          ...\n",
       "10      3in1    ,, \\n\\n        ዋጋ:-3000ብር\\n\\nውስን ፍሬ ...\n",
       "Name: Message, dtype: object"
      ]
     },
     "execution_count": 23,
     "metadata": {},
     "output_type": "execute_result"
    }
   ],
   "source": [
    "df['Message'].head()"
   ]
  },
  {
   "cell_type": "code",
   "execution_count": 24,
   "id": "f04674cf",
   "metadata": {},
   "outputs": [],
   "source": [
    "# save the updated data to csv file \n",
    "df.to_csv('../data/cleaned_data.csv')"
   ]
  }
 ],
 "metadata": {
  "kernelspec": {
   "display_name": "Python (venv-commerce)",
   "language": "python",
   "name": "venv-commerce"
  },
  "language_info": {
   "codemirror_mode": {
    "name": "ipython",
    "version": 3
   },
   "file_extension": ".py",
   "mimetype": "text/x-python",
   "name": "python",
   "nbconvert_exporter": "python",
   "pygments_lexer": "ipython3",
   "version": "3.12.6"
  }
 },
 "nbformat": 4,
 "nbformat_minor": 5
}
